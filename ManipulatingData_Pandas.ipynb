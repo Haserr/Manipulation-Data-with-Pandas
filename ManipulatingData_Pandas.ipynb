{
  "nbformat": 4,
  "nbformat_minor": 0,
  "metadata": {
    "colab": {
      "provenance": []
    },
    "kernelspec": {
      "name": "python3",
      "display_name": "Python 3"
    },
    "language_info": {
      "name": "python"
    }
  },
  "cells": [
    {
      "cell_type": "markdown",
      "source": [
        "This program reads in a .CSV file which is linked to my drive. It then has 2 functions that use the dataset.\n",
        "\n",
        "- Find() allows the user to ask for all of the values of an entry of a particular type.\n",
        "- Count() allows the user to ask how many individuals have the values of an entry of a particular type.\n",
        "\n",
        "The program accepts 3 inputs at the start:\n",
        "- (1), (2), and (3). Any other input will do nothing.\n",
        "- It then will guide the user with prompts for the find() function or count() function."
      ],
      "metadata": {
        "id": "-xIW9uzThnoW"
      }
    },
    {
      "cell_type": "code",
      "source": [
        "# Import our dataset\n",
        "import pandas as pd\n",
        "\n",
        "from google.colab import drive\n",
        "drive.mount('/content/gdrive', force_remount=True)\n",
        "data = pd.read_csv(r'/content/gdrive/My Drive/College/Spring 2024/CS 212/villagers.csv')"
      ],
      "metadata": {
        "colab": {
          "base_uri": "https://localhost:8080/"
        },
        "id": "PTzjetECTJFt",
        "outputId": "e7d794c5-17ec-439f-810e-18d2b485e819"
      },
      "execution_count": null,
      "outputs": [
        {
          "output_type": "stream",
          "name": "stdout",
          "text": [
            "Mounted at /content/gdrive\n"
          ]
        }
      ]
    },
    {
      "cell_type": "code",
      "source": [
        "# Finds all of the values of an entry of a particular type\n",
        "def find(df, column_name, search_value):\n",
        "    # This searches the specified column_name\n",
        "    # for a item that matches the search_value entered\n",
        "    return df[df[column_name] == search_value]\n",
        "\n",
        "# Finds how many individuals have the values of an entry of a particular type\n",
        "def count(df, column_name, search_value):\n",
        "  count = 0\n",
        "  for x in df[column_name]:\n",
        "    if x == search_value:\n",
        "      count = count + 1\n",
        "  return count\n",
        "\n",
        "# Checks to see if a column name exists\n",
        "def column_exists(df, column_name):\n",
        "  #print(column_name in df.columns)\n",
        "  return column_name in df.columns\n",
        "\n",
        "# Checks to see if a data entry in a column exists\n",
        "def data_exists(df, column_name, search_value):\n",
        "  for x in df[column_name]:\n",
        "    if x == search_value:\n",
        "      return True\n",
        "  return False\n",
        "\n",
        "# Gets input from user for the key and loops if incorrect input\n",
        "def get_key(df):\n",
        "  # Checking if column exists\n",
        "  # Breaks out of while loop when it does exist\n",
        "  while True:\n",
        "      key = input(\"What key?\")\n",
        "      if column_exists(df, key) == False:\n",
        "        print(\"Error: Key doesn't exist\")\n",
        "      else:\n",
        "        print(\"Searching for\", key)\n",
        "        return key\n",
        "        break\n",
        "\n",
        "# Gets input from user for the value and loops if incorrect input\n",
        "def get_value(df, key):\n",
        "  # Checking if the value exists\n",
        "  # Breaks out of while loop when it does exist\n",
        "  while True:\n",
        "    value = input(\"What value?\")\n",
        "    if data_exists(data, key, value) == False:\n",
        "      print(\"Error:  There are no entries with that description\")\n",
        "    else:\n",
        "      print(\"Searching for\", value)\n",
        "      return value\n",
        "      break\n",
        "\n",
        "# Gets input from user for the return value and loops if incorrect input\n",
        "def get_return_value(df):\n",
        "  # Checking if column exists\n",
        "  # Breaks out of while loop when it does exist\n",
        "  while True:\n",
        "    return_value = input(\"What return value?\")\n",
        "    if column_exists(data, return_value) == False:\n",
        "      print(\"Error: Return value doesn't exist\")\n",
        "    else:\n",
        "      print(\"Searching for\", return_value)\n",
        "      return return_value\n",
        "      break\n",
        "\n",
        "\n"
      ],
      "metadata": {
        "id": "sjJ5obAmUW5X"
      },
      "execution_count": null,
      "outputs": []
    },
    {
      "cell_type": "code",
      "execution_count": null,
      "metadata": {
        "colab": {
          "base_uri": "https://localhost:8080/"
        },
        "id": "OlMc_jsXS17g",
        "outputId": "ed61d4ad-0da6-4fe0-ab27-f729cee35514"
      },
      "outputs": [
        {
          "name": "stdout",
          "output_type": "stream",
          "text": [
            "Do you want to: (1) find (2) count (3) exit?5\n",
            "Do you want to: (1) find (2) count (3) exit?4\n",
            "Do you want to: (1) find (2) count (3) exit?1\n",
            "Searching for...\n",
            "What key?Bird\n",
            "Error: Key doesn't exist\n",
            "What key?Species\n",
            "Searching for Species\n",
            "What value?dfddf\n",
            "Error:  There are no entries with that description\n",
            "What value?Pig\n",
            "Searching for Pig\n",
            "What return value?Name\n",
            "Searching for Name\n",
            "['Agnes', 'Boris', 'Chops', 'Cobb', 'Curly', 'Gala', 'Hugh', 'Kevin', 'Lucy', 'Maggie', 'Pancetti', 'Peggy', 'Rasher', 'Spork', 'Truffles']\n",
            "Do you want to: (1) find (2) count (3) exit?1\n",
            "Searching for...\n",
            "What key?Personality\n",
            "Searching for Personality\n",
            "What value?Lazy\n",
            "Searching for Lazy\n",
            "What return value?Gender\n",
            "Searching for Gender\n",
            "['Male', 'Male', 'Male', 'Male', 'Male', 'Male', 'Male', 'Male', 'Male', 'Male', 'Male', 'Male', 'Male', 'Male', 'Male', 'Male', 'Male', 'Male', 'Male', 'Male', 'Male', 'Male', 'Male', 'Male', 'Male', 'Male', 'Male', 'Male', 'Male', 'Male', 'Male', 'Male', 'Male', 'Male', 'Male', 'Male', 'Male', 'Male', 'Male', 'Male', 'Male', 'Male', 'Male', 'Male', 'Male', 'Male', 'Male', 'Male', 'Male', 'Male', 'Male', 'Male', 'Male', 'Male', 'Male', 'Male', 'Male', 'Male', 'Male', 'Male']\n",
            "Do you want to: (1) find (2) count (3) exit?1\n",
            "Searching for...\n",
            "What key?Hobby\n",
            "Searching for Hobby\n",
            "What value?Play\n",
            "Searching for Play\n",
            "What return value?Name\n",
            "Searching for Name\n",
            "['Agnes', 'Alfonso', 'Anchovy', 'Apple', 'Bam', 'Barold', 'Benedict', 'Bianca', 'Big Top', 'Bill', 'Billy', 'Biskit', 'Bob', 'Bonbon', 'Bones', 'Boots', 'Broccolo', 'Canberra', 'Candi', 'Chester', 'Clyde', 'Cube', 'Deirdre', 'Derwin', 'Dizzy', 'Dom', 'Drake', 'Egbert', 'Elmer', 'Flora', 'Hamlet', 'Hazel', 'Hugh', 'Jeremiah', 'Joey', 'Ketchup', 'Kevin', 'Lucky', 'Lyman', 'Maddie', 'Marcel', 'Moe', 'Nate', 'Octavian', 'Ozzie', 'Peck', 'Piper', 'Plucky', 'Prince', 'Pudge', 'Punchy', 'Reneigh', 'Rudy', 'Sheldon', 'Simon', 'Sly', 'Sparro', 'Spork', 'Sprinkle', 'Stitches', 'Tad', 'Tammy', 'Tybalt', 'Vladimir', 'Walker']\n",
            "Do you want to: (1) find (2) count (3) exit?2\n",
            "What key?Personality\n",
            "Searching for Personality\n",
            "What value?Lazy\n",
            "Searching for Lazy\n",
            "60\n",
            "Do you want to: (1) find (2) count (3) exit?2\n",
            "What key?Gender\n",
            "Searching for Gender\n",
            "What value?Male\n",
            "Searching for Male\n",
            "204\n",
            "Do you want to: (1) find (2) count (3) exit?2\n",
            "What key?Gender\n",
            "Searching for Gender\n",
            "What value?Female\n",
            "Searching for Female\n",
            "187\n",
            "Do you want to: (1) find (2) count (3) exit?3\n"
          ]
        }
      ],
      "source": [
        "4# Main loop that asks for user input\n",
        "while True:\n",
        "  choice = input(\"Do you want to: (1) find (2) count (3) exit?\")\n",
        "\n",
        "  # --------- First choice -----------\n",
        "  if choice == \"1\":\n",
        "    print(\"Searching for...\")\n",
        "\n",
        "    # Get's input from user and saves it\n",
        "    key = get_key(data)\n",
        "    value = get_value(data, key)\n",
        "\n",
        "    # Finds the results\n",
        "    result = find(data, key, value)\n",
        "\n",
        "    # Get's input on return value from user\n",
        "    return_value = get_return_value(data)\n",
        "\n",
        "    # Prints the results\n",
        "    print(result[return_value].tolist())\n",
        "\n",
        "   # --------- Second choice -----------\n",
        "  elif choice == \"2\":\n",
        "\n",
        "    # Gets user input from user and saves it\n",
        "    key = get_key(data)\n",
        "    value = get_value(data,key)\n",
        "\n",
        "    # prints the count using the count() function\n",
        "    print(count(data,key,value))\n",
        "\n",
        "   # --------- Third choice -----------\n",
        "  elif choice == \"3\":\n",
        "    break"
      ]
    }
  ]
}